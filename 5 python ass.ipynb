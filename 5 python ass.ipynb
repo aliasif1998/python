{
 "cells": [
  {
   "cell_type": "code",
   "execution_count": 4,
   "metadata": {},
   "outputs": [
    {
     "name": "stdout",
     "output_type": "stream",
     "text": [
      "Write a number to calculate the factiorial : 10\n",
      "3628800\n"
     ]
    }
   ],
   "source": [
    "\n",
    "\"\"\"Write a Python function to calculate the factorial of a number (a non-negative\n",
    "integer). The function accepts the number as an argument.\"\"\"\n",
    "def factorial(fact):\n",
    "    if fact == 0:\n",
    "        return 1\n",
    "    else:\n",
    "        return fact * factorial(fact-1)\n",
    "fact=int(input(\"Write a number to calculate the factiorial : \"))\n",
    "print(factorial(fact))"
   ]
  },
  {
   "cell_type": "code",
   "execution_count": 5,
   "metadata": {},
   "outputs": [
    {
     "name": "stdout",
     "output_type": "stream",
     "text": [
      "Enter string:Kinza malik\n",
      "The number of lowercase characters is:\n",
      "9\n",
      "The number of uppercase characters is:\n",
      "1\n"
     ]
    }
   ],
   "source": [
    "\"\"\"Write a Python function that accepts a string and calculate the number of upper\n",
    "case letters and lower case letters.\"\"\"\n",
    "string=input(\"Enter string:\")\n",
    "count1=0\n",
    "count2=0\n",
    "for i in string:\n",
    "      if(i.islower()):\n",
    "            count1=count1+1\n",
    "      elif(i.isupper()):\n",
    "            count2=count2+1\n",
    "print(\"The number of lowercase characters is:\")\n",
    "print(count1)\n",
    "print(\"The number of uppercase characters is:\")\n",
    "print(count2)"
   ]
  },
  {
   "cell_type": "code",
   "execution_count": 6,
   "metadata": {},
   "outputs": [
    {
     "name": "stdout",
     "output_type": "stream",
     "text": [
      "22 42 72 "
     ]
    }
   ],
   "source": [
    "\"\"\"Write a Python function to print the even numbers from a given list.\"\"\"  \n",
    "list1 = [11, 22, 42, 47, 72, 99]  \n",
    "for num in list1:  \n",
    "    if num % 2 == 0: \n",
    "       print(num, end = \" \")"
   ]
  },
  {
   "cell_type": "code",
   "execution_count": 10,
   "metadata": {},
   "outputs": [
    {
     "name": "stdout",
     "output_type": "stream",
     "text": [
      "False\n",
      "False\n",
      "True\n",
      "False\n"
     ]
    }
   ],
   "source": [
    "\"\"\"Write a Python function that checks whether a passed string is palindrome or not.\"\"\"\n",
    "def isPalindrome(string):\n",
    "\tleft_pos = 0\n",
    "\tright_pos = len(string) - 1\n",
    "\t\n",
    "\twhile right_pos >= left_pos:\n",
    "\t\tif not string[left_pos] == string[right_pos]:\n",
    "\t\t\treturn False\n",
    "\t\tleft_pos += 1\n",
    "\t\tright_pos -= 1\n",
    "\treturn True\n",
    "print(isPalindrome('Tom'))\n",
    "print(isPalindrome('how'))\n",
    "print(isPalindrome('wow'))\n",
    "print(isPalindrome('cow'))"
   ]
  },
  {
   "cell_type": "code",
   "execution_count": null,
   "metadata": {},
   "outputs": [],
   "source": []
  },
  {
   "cell_type": "code",
   "execution_count": null,
   "metadata": {},
   "outputs": [],
   "source": [
    "\"Last Question\"\n",
    "product = [\"1262\", \"Cornflakes, wheat, chips\", \"£10.40\", \"8743\", \"Weetabix, Potatos, Grains\", \"£12.20\", \"9512\", \"Rice, Diapers, Juice\", \"£15.32\"]\n",
    "found= False\n",
    "product_code=input(\"Enter the product code to find items: \")\n",
    "for x in range(0,len(product)):\n",
    "    if product[x] == product_code:\n",
    "        print(product[x + 1])\n",
    "        print(product[x + 2])\n",
    "        found = True    \n",
    "if found==False:\n",
    "    print(\"Product not found\")"
   ]
  },
  {
   "cell_type": "code",
   "execution_count": null,
   "metadata": {},
   "outputs": [],
   "source": []
  }
 ],
 "metadata": {
  "kernelspec": {
   "display_name": "Python 3",
   "language": "python",
   "name": "python3"
  },
  "language_info": {
   "codemirror_mode": {
    "name": "ipython",
    "version": 3
   },
   "file_extension": ".py",
   "mimetype": "text/x-python",
   "name": "python",
   "nbconvert_exporter": "python",
   "pygments_lexer": "ipython3",
   "version": "3.7.4"
  }
 },
 "nbformat": 4,
 "nbformat_minor": 2
}
